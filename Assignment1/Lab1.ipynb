{
 "cells": [
  {
   "cell_type": "code",
   "execution_count": null,
   "id": "4a93fe74",
   "metadata": {},
   "outputs": [],
   "source": [
    "import pandas as pd\n",
    "import seaborn as sns\n",
    "import matplotlib.pyplot as plt"
   ]
  },
  {
   "cell_type": "code",
   "execution_count": null,
   "id": "357e1fd3",
   "metadata": {},
   "outputs": [],
   "source": [
    "df = sns.load_dataset('titanic')\n",
    "df.head()"
   ]
  },
  {
   "cell_type": "code",
   "execution_count": null,
   "id": "98ac40c6",
   "metadata": {},
   "outputs": [],
   "source": [
    "freq_table = df['pclass'].value_counts()\n",
    "rel_freq = df['pclass'].value_counts(normalize=True) * 100\n",
    "cum_freq = freq_table.cumsum()\n",
    "\n",
    "freq_df = pd.DataFrame({\n",
    "    'Absolute': freq_table,\n",
    "    'Relative (%)': rel_freq,\n",
    "    'Cumulative': cum_freq\n",
    "})\n",
    "print(freq_df)\n"
   ]
  },
  {
   "cell_type": "code",
   "execution_count": null,
   "id": "3f3ceecc",
   "metadata": {},
   "outputs": [],
   "source": [
    "table = pd.crosstab(df['sex'], df['survived'], margins=True, )\n",
    "table = table.rename(columns={1: 'Survived = 1', 0: 'Survived = 0'})\n",
    "table = table.rename(index={'male': 'Male', 'female': 'Female'})\n",
    "\n",
    "table.columns.name = 'Survival'\n",
    "table.index.name = 'Sex'\n",
    "\n",
    "print(table)\n"
   ]
  },
  {
   "cell_type": "code",
   "execution_count": null,
   "id": "06ae517d",
   "metadata": {},
   "outputs": [],
   "source": [
    "total = len(df)\n",
    "\n",
    "# Joint probability: P(Sex = Female, Survived = 1)\n",
    "joint_prob = len(df[(df['sex']=='female') & (df['survived']==1)]) / total\n",
    "print(f\"Joint Probability P(Sex = Female, Survived = 1): {joint_prob:.4f}\")\n",
    "\n",
    "#------------------------------------------------------------------------------------------------------------\n",
    "p_female = len(df[df['sex']=='female']) / total\n",
    "p_survived = len(df[df['survived']==1]) / total\n",
    "print(\"\\nMarginal probability -\")\n",
    "print(f\"P(Sex = Female): {p_female:.4f} \\nP(Survived = 1): {p_survived:.4f}\")\n",
    "\n",
    "#------------------------------------------------------------------------------------------------------------\n",
    "print(\"Conditional probabilities - \")\n",
    "# P(Survived=1 | Sex=female)\n",
    "cond1 = joint_prob / p_female\n",
    "print(f\"\\nP(Survived=1 | Sex=female): {cond1:.4f}\")\n",
    "female_given_survive = pd.crosstab(df['sex'], df['survived'], normalize='index')\n",
    "female_given_survive = female_given_survive.rename(columns={1: 'Survived = 1', 0: 'Survived = 0'})\n",
    "female_given_survive = female_given_survive.rename(index={'male': 'Not Female', 'female': 'Female'})\n",
    "\n",
    "print(female_given_survive)\n",
    "\n",
    "# P(Sex=female | Survived=1)\n",
    "cond2 = joint_prob / p_survived\n",
    "print(f\"\\nP(Sex=female | Survived=1): {cond2:.4f}\")\n",
    "survive_given_female = pd.crosstab(df['sex'], df['survived'], normalize='columns')\n",
    "survive_given_female = survive_given_female.rename(columns={1: 'Survived = 1', 0: 'Survived = 0'})\n",
    "survive_given_female = survive_given_female.rename(index={'male': 'Not Female', 'female': 'Female'})\n",
    "print(survive_given_female)"
   ]
  },
  {
   "cell_type": "code",
   "execution_count": null,
   "id": "055e0857",
   "metadata": {},
   "outputs": [],
   "source": [
    "df_clean = df[['age','fare']].dropna()\n",
    "\n",
    "corr = df_clean['age'].corr(df_clean['fare'])\n",
    "print(\"Pearson Correlation:\", corr)\n",
    "\n",
    "sns.heatmap(df_clean.corr(), annot=True, cmap='coolwarm')\n",
    "plt.show()\n",
    "sns.pairplot(df_clean)\n",
    "plt.show()\n",
    "\n",
    "plt.scatter(df_clean['age'], df_clean['fare'], alpha=0.6, color='teal')\n",
    "plt.xlabel('Age')\n",
    "plt.ylabel('Fare')\n",
    "plt.title('Scatter Plot: Age vs Fare')\n",
    "plt.grid(True, linestyle='--', alpha=0.5)\n",
    "plt.show()\n",
    "\n"
   ]
  },
  {
   "cell_type": "code",
   "execution_count": null,
   "id": "69d36cd6",
   "metadata": {},
   "outputs": [],
   "source": [
    "class_survival = pd.crosstab(df['class'], df['survived'])\n",
    "class_survival.plot(kind='bar', stacked=True)\n",
    "plt.xlabel('Class')\n",
    "plt.ylabel('Count')\n",
    "plt.title('Survival by Class')\n",
    "plt.show()\n"
   ]
  }
 ],
 "metadata": {
  "kernelspec": {
   "display_name": "Python 3",
   "language": "python",
   "name": "python3"
  },
  "language_info": {
   "codemirror_mode": {
    "name": "ipython",
    "version": 3
   },
   "file_extension": ".py",
   "mimetype": "text/x-python",
   "name": "python",
   "nbconvert_exporter": "python",
   "pygments_lexer": "ipython3",
   "version": "3.12.10"
  }
 },
 "nbformat": 4,
 "nbformat_minor": 5
}
